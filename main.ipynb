{
 "cells": [
  {
   "cell_type": "markdown",
   "metadata": {},
   "source": [
    "## 1. Problem Framing\n",
    "\n",
    "The goal of this project is to develop an image classification model that can accurately predict the name of Cricketers from images uploaded to a website. The dataset contains images of Nepalese cricketers, and the task is to classify each image into one of the predefined categories.\n",
    "\n",
    "To achieve this, we will follow a series of steps such as data preprocessing, data cleaning, and data exploration to prepare the data for modeling. We will then perform feature engineering to extract relevant features from the images and select the best model and hyperparameters to train the classification model.\n",
    "\n",
    "Once the model is trained, we will evaluate its performance on a test dataset and fine-tune it as necessary. Finally, we will integrate the model into a web application, allowing users to upload images to the website and receive predictions about the Nepalese cricketer in the image.\n",
    "\n",
    "The success of this project will be determined by the accuracy and efficiency of the model in classifying the images, as well as the smooth and user-friendly interface of the web application"
   ]
  },
  {
   "attachments": {},
   "cell_type": "markdown",
   "metadata": {},
   "source": [
    "## 2. Data Aquisition\n",
    "To acquire the necessary data for my image classification project, I performed web scraping of Cricketers images from Google. I achieved this by utilizing a [Python script](data_aquisition/web_scrapping.py) that implements web scraping techniques to download images of Cristiano Ronaldo from Google. The script imports essential libraries such as requests, os, time, and BeautifulSoup.\n",
    "\n",
    "To begin, the search query and the desired number of images to download are defined, along with the URL of the search results page. The script then executes a GET request to the URL, obtains the HTML content using the requests library, and parses the content with the BeautifulSoup library to locate all image tags.\n",
    "\n",
    "In case a folder with the search query's name does not already exist, the script uses the os.mkdir() function to create a new folder. The script proceeds to iterate through the image tags and downloads each image to the folder using the with open() statement. To prevent Google from blocking further requests, the script introduces a delay of 10 seconds between each 20 requests using the time.sleep() function."
   ]
  },
  {
   "cell_type": "markdown",
   "metadata": {},
   "source": [
    "## 3. Data Preprocessing and Cleaning"
   ]
  },
  {
   "cell_type": "code",
   "execution_count": 8,
   "metadata": {},
   "outputs": [],
   "source": [
    "import cv2\n",
    "import numpy as np\n",
    "import matplotlib.pyplot as plt\n",
    "import pywt"
   ]
  },
  {
   "cell_type": "code",
   "execution_count": 9,
   "metadata": {},
   "outputs": [],
   "source": [
    "face_cascade = cv2.CascadeClassifier('./opencv/haarcascades/haarcascade_frontalface_default.xml')\n",
    "eye_cascade = cv2.CascadeClassifier('./opencv/haarcascades/haarcascade_eye.xml')"
   ]
  },
  {
   "cell_type": "code",
   "execution_count": 10,
   "metadata": {},
   "outputs": [],
   "source": [
    "def get_cropped_image_if_2_eyes(image_path):\n",
    "    img = cv2.imread(image_path)\n",
    "    if img is None:\n",
    "        return None\n",
    "    gray = cv2.cvtColor(img, cv2.COLOR_BGR2GRAY)\n",
    "    faces = face_cascade.detectMultiScale(gray, 1.3, 5)\n",
    "    for (x,y,w,h) in faces:\n",
    "        roi_gray = gray[y:y+h, x:x+w]\n",
    "        roi_color = img[y:y+h, x:x+w]\n",
    "        eyes = eye_cascade.detectMultiScale(roi_gray)\n",
    "        if len(eyes) >= 2:\n",
    "            return roi_color"
   ]
  },
  {
   "cell_type": "code",
   "execution_count": 11,
   "metadata": {},
   "outputs": [],
   "source": [
    "path_data = \"./dataset/\"\n",
    "path_cropped_data = \"./dataset/cropped/\""
   ]
  },
  {
   "cell_type": "code",
   "execution_count": 12,
   "metadata": {},
   "outputs": [],
   "source": [
    "import os\n",
    "img_dirs = [file.path for file in os.scandir(path_data) if file.is_dir()]"
   ]
  },
  {
   "cell_type": "code",
   "execution_count": 13,
   "metadata": {},
   "outputs": [],
   "source": [
    "import shutil\n",
    "if os.path.exists(path_cropped_data):\n",
    "     shutil.rmtree(path_cropped_data)\n",
    "os.mkdir(path_cropped_data)"
   ]
  },
  {
   "cell_type": "code",
   "execution_count": 14,
   "metadata": {},
   "outputs": [
    {
     "name": "stdout",
     "output_type": "stream",
     "text": [
      "Rohit_Sharma\n",
      "Generating cropped images in folder:  ./dataset/cropped/Rohit_Sharma\n",
      "Ab_De_Villiers\n",
      "Generating cropped images in folder:  ./dataset/cropped/Ab_De_Villiers\n",
      "MS_Dhoni\n",
      "Generating cropped images in folder:  ./dataset/cropped/MS_Dhoni\n",
      "Sachin_Tendulkar\n",
      "Generating cropped images in folder:  ./dataset/cropped/Sachin_Tendulkar\n"
     ]
    },
    {
     "name": "stderr",
     "output_type": "stream",
     "text": [
      "libpng warning: iCCP: known incorrect sRGB profile\n"
     ]
    },
    {
     "name": "stdout",
     "output_type": "stream",
     "text": [
      "Virat_Kholi\n",
      "Generating cropped images in folder:  ./dataset/cropped/Virat_Kholi\n",
      "cropped\n"
     ]
    }
   ],
   "source": [
    "cropped_image_dirs = []\n",
    "celebrity_file_names_dict = {}\n",
    "\n",
    "for img_dir in img_dirs:\n",
    "    count = 1\n",
    "    celebrity_name = img_dir.split('/')[-1]\n",
    "    print(celebrity_name)\n",
    "    \n",
    "    celebrity_file_names_dict[celebrity_name] = []\n",
    "    \n",
    "    for entry in os.scandir(img_dir):\n",
    "        roi_color = get_cropped_image_if_2_eyes(entry.path)\n",
    "        if roi_color is not None:\n",
    "            cropped_folder = path_cropped_data+ celebrity_name\n",
    "            if not os.path.exists(cropped_folder):\n",
    "                os.makedirs(cropped_folder)\n",
    "                cropped_image_dirs.append(cropped_folder)\n",
    "                print(\"Generating cropped images in folder: \",cropped_folder)\n",
    "                \n",
    "            cropped_file_name = celebrity_name + str(count) + \".png\"\n",
    "            cropped_file_path = cropped_folder + \"/\" + cropped_file_name \n",
    "            \n",
    "            cv2.imwrite(cropped_file_path, roi_color)\n",
    "            celebrity_file_names_dict[celebrity_name].append(cropped_file_path)\n",
    "            count += 1 "
   ]
  },
  {
   "cell_type": "code",
   "execution_count": 43,
   "metadata": {},
   "outputs": [],
   "source": [
    "celebrity_file_names_dict = {}\n",
    "for img_dir in cropped_image_dirs:\n",
    "    celebrity_name = img_dir.split('/')[-1]\n",
    "    file_list = []\n",
    "    for entry in os.scandir(img_dir):\n",
    "        file_list.append(entry.path)\n",
    "    celebrity_file_names_dict[celebrity_name] = file_list"
   ]
  },
  {
   "cell_type": "markdown",
   "metadata": {},
   "source": [
    "## 4. Feature Engineering"
   ]
  },
  {
   "cell_type": "code",
   "execution_count": 44,
   "metadata": {},
   "outputs": [],
   "source": [
    "def w2d(imArray, mode='haar', level=1):\n",
    "    imArray = cv2.cvtColor( imArray,cv2.COLOR_RGB2GRAY )\n",
    "    imArray =  np.float32(imArray)   \n",
    "    imArray /= 255\n",
    "    coeffs=pywt.wavedec2(imArray, mode, level=level)\n",
    "    coeffs_H=list(coeffs)  \n",
    "    coeffs_H[0] *= 0;  \n",
    "    imArray_H=pywt.waverec2(coeffs_H, mode)\n",
    "    imArray_H *= 255\n",
    "    imArray_H =  np.uint8(imArray_H)\n",
    "\n",
    "    return imArray_H"
   ]
  },
  {
   "cell_type": "code",
   "execution_count": 45,
   "metadata": {},
   "outputs": [],
   "source": [
    "class_dict = {}\n",
    "count = 0\n",
    "for celebrity_name in celebrity_file_names_dict.keys():\n",
    "    class_dict[celebrity_name] = count\n",
    "    count = count + 1"
   ]
  },
  {
   "cell_type": "code",
   "execution_count": 46,
   "metadata": {},
   "outputs": [],
   "source": [
    "X, y = [], []\n",
    "for celebrity_name, training_files in celebrity_file_names_dict.items():\n",
    "    for training_image in training_files:\n",
    "        img = cv2.imread(training_image)\n",
    "        if img is None or img.size == 0:\n",
    "            continue\n",
    "        scalled_raw_img = cv2.resize(img, (32, 32))\n",
    "        img_har = w2d(img,'db1',5)\n",
    "        scalled_img_har = cv2.resize(img_har, (32, 32))\n",
    "        combined_img = np.vstack((scalled_raw_img.reshape(32*32*3,1),scalled_img_har.reshape(32*32,1)))\n",
    "        X.append(combined_img)\n",
    "        y.append(class_dict[celebrity_name])     "
   ]
  },
  {
   "cell_type": "code",
   "execution_count": 47,
   "metadata": {},
   "outputs": [
    {
     "data": {
      "text/plain": [
       "(183, 4096, 1)"
      ]
     },
     "execution_count": 47,
     "metadata": {},
     "output_type": "execute_result"
    }
   ],
   "source": [
    "X = np.array(X).astype(float)\n",
    "y = np.array(y).astype(float)\n",
    "X.shape"
   ]
  },
  {
   "cell_type": "code",
   "execution_count": 48,
   "metadata": {},
   "outputs": [
    {
     "data": {
      "text/plain": [
       "(183, 4096)"
      ]
     },
     "execution_count": 48,
     "metadata": {},
     "output_type": "execute_result"
    }
   ],
   "source": [
    "X = X.reshape(X.shape[0], 4096)\n",
    "X.shape"
   ]
  },
  {
   "attachments": {},
   "cell_type": "markdown",
   "metadata": {},
   "source": [
    "## 5. Model Selection"
   ]
  },
  {
   "cell_type": "code",
   "execution_count": 49,
   "metadata": {},
   "outputs": [],
   "source": [
    "from sklearn import svm\n",
    "from sklearn.ensemble import RandomForestClassifier\n",
    "from sklearn.linear_model import LogisticRegression\n",
    "from sklearn.pipeline import make_pipeline\n",
    "from sklearn.model_selection import GridSearchCV\n",
    "from sklearn.preprocessing import StandardScaler"
   ]
  },
  {
   "cell_type": "code",
   "execution_count": 50,
   "metadata": {},
   "outputs": [
    {
     "name": "stdout",
     "output_type": "stream",
     "text": [
      "Epoch 1/20\n",
      "6/6 [==============================] - 0s 4ms/step - loss: 442.8880 - accuracy: 0.0656\n",
      "Epoch 2/20\n",
      "6/6 [==============================] - 0s 4ms/step - loss: 130.7166 - accuracy: 0.3115\n",
      "Epoch 3/20\n",
      "6/6 [==============================] - 0s 6ms/step - loss: 110.1659 - accuracy: 0.3661\n",
      "Epoch 4/20\n",
      "6/6 [==============================] - 0s 4ms/step - loss: 66.8273 - accuracy: 0.4536\n",
      "Epoch 5/20\n",
      "6/6 [==============================] - 0s 4ms/step - loss: 44.5848 - accuracy: 0.4863\n",
      "Epoch 6/20\n",
      "6/6 [==============================] - 0s 5ms/step - loss: 26.4301 - accuracy: 0.5847\n",
      "Epoch 7/20\n",
      "6/6 [==============================] - 0s 5ms/step - loss: 20.5518 - accuracy: 0.6120\n",
      "Epoch 8/20\n",
      "6/6 [==============================] - 0s 5ms/step - loss: 13.1054 - accuracy: 0.6995\n",
      "Epoch 9/20\n",
      "6/6 [==============================] - 0s 4ms/step - loss: 6.8457 - accuracy: 0.8087\n",
      "Epoch 10/20\n",
      "6/6 [==============================] - 0s 4ms/step - loss: 2.4468 - accuracy: 0.8907\n",
      "Epoch 11/20\n",
      "6/6 [==============================] - 0s 4ms/step - loss: 1.8908 - accuracy: 0.8852\n",
      "Epoch 12/20\n",
      "6/6 [==============================] - 0s 4ms/step - loss: 1.1028 - accuracy: 0.8852\n",
      "Epoch 13/20\n",
      "6/6 [==============================] - 0s 4ms/step - loss: 2.0307 - accuracy: 0.8962\n",
      "Epoch 14/20\n",
      "6/6 [==============================] - 0s 5ms/step - loss: 1.6215 - accuracy: 0.9016\n",
      "Epoch 15/20\n",
      "6/6 [==============================] - 0s 5ms/step - loss: 0.8146 - accuracy: 0.9071\n",
      "Epoch 16/20\n",
      "6/6 [==============================] - 0s 4ms/step - loss: 0.8808 - accuracy: 0.9290\n",
      "Epoch 17/20\n",
      "6/6 [==============================] - 0s 4ms/step - loss: 0.5036 - accuracy: 0.9508\n",
      "Epoch 18/20\n",
      "6/6 [==============================] - 0s 4ms/step - loss: 1.8135 - accuracy: 0.9290\n",
      "Epoch 19/20\n",
      "6/6 [==============================] - 0s 4ms/step - loss: 0.7069 - accuracy: 0.9454\n",
      "Epoch 20/20\n",
      "6/6 [==============================] - 0s 4ms/step - loss: 0.4054 - accuracy: 0.9836\n"
     ]
    },
    {
     "data": {
      "text/plain": [
       "<keras.callbacks.History at 0x7f92f0a02f40>"
      ]
     },
     "execution_count": 50,
     "metadata": {},
     "output_type": "execute_result"
    }
   ],
   "source": [
    "import tensorflow as tf\n",
    "from tensorflow import keras\n",
    "\n",
    "neural_network = keras.Sequential([\n",
    "    keras.layers.Reshape((64, 64, 1), input_shape=X.shape[1:]),\n",
    "    keras.layers.Flatten(),\n",
    "    keras.layers.Dense(256, activation='relu'),\n",
    "    keras.layers.Dense(128, activation='relu'),\n",
    "    keras.layers.Dense(len(y), activation='softmax')\n",
    "])\n",
    "\n",
    "neural_network.compile(optimizer=tf.keras.optimizers.Adam(learning_rate=0.001),\n",
    "              loss='sparse_categorical_crossentropy',\n",
    "              metrics=['accuracy'])\n",
    "neural_network.fit(X, y, epochs=20, batch_size=32)\n"
   ]
  },
  {
   "cell_type": "code",
   "execution_count": 51,
   "metadata": {},
   "outputs": [
    {
     "name": "stdout",
     "output_type": "stream",
     "text": [
      "6/6 [==============================] - 0s 2ms/step - loss: 2.1497e-08 - accuracy: 1.0000\n"
     ]
    },
    {
     "data": {
      "text/plain": [
       "[2.1496740387760838e-08, 1.0]"
      ]
     },
     "execution_count": 51,
     "metadata": {},
     "output_type": "execute_result"
    }
   ],
   "source": [
    "neural_network.evaluate(X, y)"
   ]
  },
  {
   "cell_type": "code",
   "execution_count": 52,
   "metadata": {},
   "outputs": [],
   "source": [
    "model_params = {\n",
    "    'svm': {\n",
    "        'model': svm.SVC(gamma='auto',probability=True),\n",
    "        'params' : {\n",
    "            'svc__C': [1,10,100,1000],\n",
    "            'svc__kernel': ['rbf','linear']\n",
    "        }  \n",
    "    },\n",
    "    'random_forest': {\n",
    "        'model': RandomForestClassifier(),\n",
    "        'params' : {\n",
    "            'randomforestclassifier__n_estimators': [1,5,10]\n",
    "        }\n",
    "    },\n",
    "    'logistic_regression' : {\n",
    "        'model': LogisticRegression(solver='liblinear',multi_class='auto'),\n",
    "        'params': {\n",
    "            'logisticregression__C': [1,5,10]\n",
    "        },\n",
    "    }\n",
    "    }"
   ]
  },
  {
   "cell_type": "code",
   "execution_count": 53,
   "metadata": {},
   "outputs": [
    {
     "data": {
      "text/html": [
       "<div>\n",
       "<style scoped>\n",
       "    .dataframe tbody tr th:only-of-type {\n",
       "        vertical-align: middle;\n",
       "    }\n",
       "\n",
       "    .dataframe tbody tr th {\n",
       "        vertical-align: top;\n",
       "    }\n",
       "\n",
       "    .dataframe thead th {\n",
       "        text-align: right;\n",
       "    }\n",
       "</style>\n",
       "<table border=\"1\" class=\"dataframe\">\n",
       "  <thead>\n",
       "    <tr style=\"text-align: right;\">\n",
       "      <th></th>\n",
       "      <th>model</th>\n",
       "      <th>best_score</th>\n",
       "      <th>best_params</th>\n",
       "    </tr>\n",
       "  </thead>\n",
       "  <tbody>\n",
       "    <tr>\n",
       "      <th>0</th>\n",
       "      <td>svm</td>\n",
       "      <td>0.754204</td>\n",
       "      <td>{'svc__C': 1, 'svc__kernel': 'linear'}</td>\n",
       "    </tr>\n",
       "    <tr>\n",
       "      <th>1</th>\n",
       "      <td>random_forest</td>\n",
       "      <td>0.590240</td>\n",
       "      <td>{'randomforestclassifier__n_estimators': 10}</td>\n",
       "    </tr>\n",
       "    <tr>\n",
       "      <th>2</th>\n",
       "      <td>logistic_regression</td>\n",
       "      <td>0.716517</td>\n",
       "      <td>{'logisticregression__C': 1}</td>\n",
       "    </tr>\n",
       "  </tbody>\n",
       "</table>\n",
       "</div>"
      ],
      "text/plain": [
       "                 model  best_score  \\\n",
       "0                  svm    0.754204   \n",
       "1        random_forest    0.590240   \n",
       "2  logistic_regression    0.716517   \n",
       "\n",
       "                                    best_params  \n",
       "0        {'svc__C': 1, 'svc__kernel': 'linear'}  \n",
       "1  {'randomforestclassifier__n_estimators': 10}  \n",
       "2                  {'logisticregression__C': 1}  "
      ]
     },
     "execution_count": 53,
     "metadata": {},
     "output_type": "execute_result"
    }
   ],
   "source": [
    "scores = []\n",
    "best_estimators = {}\n",
    "import pandas as pd\n",
    "for algo, mp in model_params.items():\n",
    "    pipe = make_pipeline(StandardScaler(), mp['model'])\n",
    "    clf =  GridSearchCV(pipe, mp['params'], cv=5, return_train_score=False)\n",
    "    clf.fit(X, y)\n",
    "    scores.append({\n",
    "        'model': algo,\n",
    "        'best_score': clf.best_score_,\n",
    "        'best_params': clf.best_params_\n",
    "    })\n",
    "    best_estimators[algo] = clf.best_estimator_\n",
    "    \n",
    "df = pd.DataFrame(scores,columns=['model','best_score','best_params'])\n",
    "df"
   ]
  },
  {
   "cell_type": "markdown",
   "metadata": {},
   "source": [
    "## 7. Model Training"
   ]
  },
  {
   "cell_type": "code",
   "execution_count": 26,
   "metadata": {},
   "outputs": [],
   "source": [
    "from sklearn.model_selection import train_test_split\n",
    "X_train, X_test, y_train, y_test = train_test_split(X, y, random_state=0, stratify=True)"
   ]
  },
  {
   "cell_type": "code",
   "execution_count": 27,
   "metadata": {},
   "outputs": [
    {
     "name": "stdout",
     "output_type": "stream",
     "text": [
      "Epoch 1/20\n",
      "7/7 [==============================] - 0s 3ms/step - loss: 206.5740 - accuracy: 0.0863\n",
      "Epoch 2/20\n",
      "7/7 [==============================] - 0s 4ms/step - loss: 250.1349 - accuracy: 0.2690\n",
      "Epoch 3/20\n",
      "7/7 [==============================] - 0s 3ms/step - loss: 132.6774 - accuracy: 0.2690\n",
      "Epoch 4/20\n",
      "7/7 [==============================] - 0s 6ms/step - loss: 97.3708 - accuracy: 0.3909\n",
      "Epoch 5/20\n",
      "7/7 [==============================] - 0s 3ms/step - loss: 83.9178 - accuracy: 0.4822\n",
      "Epoch 6/20\n",
      "7/7 [==============================] - 0s 3ms/step - loss: 45.8645 - accuracy: 0.5076\n",
      "Epoch 7/20\n",
      "7/7 [==============================] - 0s 3ms/step - loss: 40.0340 - accuracy: 0.4772\n",
      "Epoch 8/20\n",
      "7/7 [==============================] - 0s 3ms/step - loss: 23.7615 - accuracy: 0.5990\n",
      "Epoch 9/20\n",
      "7/7 [==============================] - 0s 3ms/step - loss: 13.5391 - accuracy: 0.6650\n",
      "Epoch 10/20\n",
      "7/7 [==============================] - 0s 3ms/step - loss: 23.8484 - accuracy: 0.6447\n",
      "Epoch 11/20\n",
      "7/7 [==============================] - 0s 3ms/step - loss: 13.0855 - accuracy: 0.7462\n",
      "Epoch 12/20\n",
      "7/7 [==============================] - 0s 3ms/step - loss: 3.8123 - accuracy: 0.8274\n",
      "Epoch 13/20\n",
      "7/7 [==============================] - 0s 3ms/step - loss: 3.9626 - accuracy: 0.8325\n",
      "Epoch 14/20\n",
      "7/7 [==============================] - 0s 3ms/step - loss: 2.5608 - accuracy: 0.8832\n",
      "Epoch 15/20\n",
      "7/7 [==============================] - 0s 3ms/step - loss: 10.0935 - accuracy: 0.8680\n",
      "Epoch 16/20\n",
      "7/7 [==============================] - 0s 3ms/step - loss: 6.2397 - accuracy: 0.8071\n",
      "Epoch 17/20\n",
      "7/7 [==============================] - 0s 3ms/step - loss: 10.1608 - accuracy: 0.8173\n",
      "Epoch 18/20\n",
      "7/7 [==============================] - 0s 4ms/step - loss: 4.4210 - accuracy: 0.7970\n",
      "Epoch 19/20\n",
      "7/7 [==============================] - 0s 3ms/step - loss: 3.4288 - accuracy: 0.8629\n",
      "Epoch 20/20\n",
      "7/7 [==============================] - 0s 3ms/step - loss: 4.6805 - accuracy: 0.8325\n"
     ]
    },
    {
     "data": {
      "text/plain": [
       "<keras.callbacks.History at 0x7f93103deb80>"
      ]
     },
     "execution_count": 27,
     "metadata": {},
     "output_type": "execute_result"
    }
   ],
   "source": [
    "neural_network = keras.Sequential([\n",
    "    keras.layers.Reshape((64, 64, 1), input_shape=X.shape[1:]),\n",
    "    keras.layers.Flatten(),\n",
    "    keras.layers.Dense(256, activation='relu'),\n",
    "    keras.layers.Dense(128, activation='relu'),\n",
    "    keras.layers.Dense(len(y), activation='softmax')\n",
    "])\n",
    "\n",
    "neural_network.compile(optimizer=tf.keras.optimizers.Adam(learning_rate=0.001),\n",
    "              loss='sparse_categorical_crossentropy',\n",
    "              metrics=['accuracy'])\n",
    "neural_network.fit(X_train, y_train, epochs=20, batch_size=32)"
   ]
  },
  {
   "cell_type": "markdown",
   "metadata": {},
   "source": [
    "## 8. Model Evaluation"
   ]
  },
  {
   "cell_type": "code",
   "execution_count": 28,
   "metadata": {},
   "outputs": [
    {
     "name": "stdout",
     "output_type": "stream",
     "text": [
      "3/3 [==============================] - 0s 2ms/step - loss: 23.5630 - accuracy: 0.4242\n"
     ]
    },
    {
     "data": {
      "text/plain": [
       "[23.563024520874023, 0.42424243688583374]"
      ]
     },
     "execution_count": 28,
     "metadata": {},
     "output_type": "execute_result"
    }
   ],
   "source": [
    "neural_network.evaluate(X_test, y_test)"
   ]
  },
  {
   "cell_type": "code",
   "execution_count": 41,
   "metadata": {},
   "outputs": [],
   "source": [
    "from sklearn.metrics import confusion_matrix\n",
    "y_pred = neural_network(X_test)\n",
    "cm = confusion_matrix(y_test, tf.argmax(y_pred, axis=1))"
   ]
  },
  {
   "cell_type": "code",
   "execution_count": 42,
   "metadata": {},
   "outputs": [
    {
     "data": {
      "text/plain": [
       "Text(95.72222222222221, 0.5, 'Truth')"
      ]
     },
     "execution_count": 42,
     "metadata": {},
     "output_type": "execute_result"
    },
    {
     "data": {
      "image/png": "[encoded data removed]",
      "text/plain": [
       "<Figure size 1000x700 with 2 Axes>"
      ]
     },
     "metadata": {},
     "output_type": "display_data"
    }
   ],
   "source": [
    "import seaborn as sn\n",
    "plt.figure(figsize = (10,7))\n",
    "sn.heatmap(cm, annot=True)\n",
    "plt.xlabel('Predicted')\n",
    "plt.ylabel('Truth')"
   ]
  },
  {
   "cell_type": "code",
   "execution_count": 1,
   "metadata": {},
   "outputs": [
    {
     "ename": "NameError",
     "evalue": "name 'neural_network' is not defined",
     "output_type": "error",
     "traceback": [
      "\u001b[0;31m---------------------------------------------------------------------------\u001b[0m",
      "\u001b[0;31mNameError\u001b[0m                                 Traceback (most recent call last)",
      "\u001b[0;32m/var/folders/hg/n24r9jj93w7fwkd71c03mj9h0000gn/T/ipykernel_9216/1421597003.py\u001b[0m in \u001b[0;36m<module>\u001b[0;34m\u001b[0m\n\u001b[1;32m      1\u001b[0m \u001b[0;32mimport\u001b[0m \u001b[0mjoblib\u001b[0m\u001b[0;34m\u001b[0m\u001b[0;34m\u001b[0m\u001b[0m\n\u001b[0;32m----> 2\u001b[0;31m \u001b[0mjoblib\u001b[0m\u001b[0;34m.\u001b[0m\u001b[0mdump\u001b[0m\u001b[0;34m(\u001b[0m\u001b[0mneural_network\u001b[0m\u001b[0;34m,\u001b[0m \u001b[0;34m'saved_model.pkl'\u001b[0m\u001b[0;34m)\u001b[0m\u001b[0;34m\u001b[0m\u001b[0;34m\u001b[0m\u001b[0m\n\u001b[0m",
      "\u001b[0;31mNameError\u001b[0m: name 'neural_network' is not defined"
     ]
    }
   ],
   "source": [
    "import joblib \n",
    "joblib.dump(neural_network, 'saved_model.pkl')"
   ]
  },
  {
   "cell_type": "code",
   "execution_count": null,
   "metadata": {},
   "outputs": [],
   "source": [
    "import json\n",
    "with open(\"class_dictionary.json\",\"w\") as f:\n",
    "    f.write(json.dumps(class_dict))"
   ]
  },
  {
   "cell_type": "markdown",
   "metadata": {},
   "source": [
    "## 9. Model Deployment"
   ]
  },
  {
   "cell_type": "code",
   "execution_count": null,
   "metadata": {},
   "outputs": [],
   "source": []
  },
  {
   "cell_type": "markdown",
   "metadata": {},
   "source": [
    "## 10. Monitoring and Deployment"
   ]
  },
  {
   "cell_type": "code",
   "execution_count": null,
   "metadata": {},
   "outputs": [],
   "source": []
  }
 ],
 "metadata": {
  "kernelspec": {
   "display_name": "Python 3 (ipykernel)",
   "language": "python",
   "name": "python3"
  },
  "language_info": {
   "codemirror_mode": {
    "name": "ipython",
    "version": 3
   },
   "file_extension": ".py",
   "mimetype": "text/x-python",
   "name": "python",
   "nbconvert_exporter": "python",
   "pygments_lexer": "ipython3",
   "version": "3.9.13"
  }
 },
 "nbformat": 4,
 "nbformat_minor": 2
}
