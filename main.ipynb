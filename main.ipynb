{
 "cells": [
  {
   "attachments": {},
   "cell_type": "markdown",
   "metadata": {},
   "source": [
    "## 1. Problem Framing\n",
    "\n",
    "The goal of this project was to develop an image classification model that could accurately predict the name of cricketers from images uploaded to a website. The dataset contained images of cricketers, and the task was to classify each image into one of the predefined categories.\n",
    "\n",
    "To achieve this, a series of steps were followed such as data acquisition, data preprocessing and cleaning to prepare the data for modeling. Feature engineering was then performed to extract relevant features from the images, and the best model and hyperparameters were selected to train the classification model.\n",
    "\n",
    "Once the model was trained, its performance was evaluated on a test dataset and fine-tuned as necessary. Finally, the model was integrated into a web application, allowing users to upload images to the website and receive predictions about the cricketer in the image.\n",
    "\n",
    "The success of the project was determined by the accuracy and efficiency of the model in classifying the images."
   ]
  },
  {
   "attachments": {},
   "cell_type": "markdown",
   "metadata": {},
   "source": [
    "## 2. Data Aquisition\n",
    "To acquire the necessary data for the image classification project, web scraping of Cricketers images was performed from Google. This was achieved by utilizing a [Python script](data_aquisition/web_scrapping.py) that implemented beautiful soup and selenium to download images of Cricketers from Google through beautiful soup. In order to counter block from google after certain requests, delay of 10 seconds between each photo was introduced. Since, at one requests, only 20 images were dropped, Selenium was used to scroll down until end of the page was reached."
   ]
  },
  {
   "attachments": {},
   "cell_type": "markdown",
   "metadata": {},
   "source": [
    "## 3. Data Preprocessing and Cleaning\n",
    "Data preprocessing and cleaning are the most important parts of the data science process. OpenCV was used to input images, and the face_cascade and eye_cascade of the Cascade classifier of the OpenCV library were used to detect faces and eyes. Only images with two eyes were allowed to proceed to the next process to ensure that the model could find patterns in the image accurately. Each image was processed, cropped, and separated into separate folders called \"cropped\" for feature engineering.\n"
   ]
  },
  {
   "cell_type": "code",
   "execution_count": 1,
   "metadata": {},
   "outputs": [],
   "source": [
    "import cv2"
   ]
  },
  {
   "cell_type": "code",
   "execution_count": 2,
   "metadata": {},
   "outputs": [],
   "source": [
    "face_cascade = cv2.CascadeClassifier('./opencv/haarcascades/haarcascade_frontalface_default.xml')\n",
    "eye_cascade = cv2.CascadeClassifier('./opencv/haarcascades/haarcascade_eye.xml')"
   ]
  },
  {
   "cell_type": "code",
   "execution_count": 3,
   "metadata": {},
   "outputs": [],
   "source": [
    "def get_cropped_image_if_2_eyes(image_path):\n",
    "    img = cv2.imread(image_path)\n",
    "    if img is None:\n",
    "        return None\n",
    "    gray = cv2.cvtColor(img, cv2.COLOR_BGR2GRAY)\n",
    "    faces = face_cascade.detectMultiScale(gray, 1.3, 5)\n",
    "    for (x,y,w,h) in faces:\n",
    "        roi_gray = gray[y:y+h, x:x+w]\n",
    "        roi_color = img[y:y+h, x:x+w]\n",
    "        eyes = eye_cascade.detectMultiScale(roi_gray)\n",
    "        if len(eyes) >= 2:\n",
    "            return roi_color"
   ]
  },
  {
   "cell_type": "code",
   "execution_count": 4,
   "metadata": {},
   "outputs": [],
   "source": [
    "path_data = \"./dataset/\"\n",
    "path_cropped_data = \"./dataset/cropped/\""
   ]
  },
  {
   "cell_type": "code",
   "execution_count": 5,
   "metadata": {},
   "outputs": [],
   "source": [
    "import os\n",
    "img_dirs = [file.path for file in os.scandir(path_data) if file.is_dir()]"
   ]
  },
  {
   "cell_type": "code",
   "execution_count": 6,
   "metadata": {},
   "outputs": [],
   "source": [
    "import shutil\n",
    "if os.path.exists(path_cropped_data):\n",
    "     shutil.rmtree(path_cropped_data)\n",
    "os.mkdir(path_cropped_data)"
   ]
  },
  {
   "cell_type": "code",
   "execution_count": 7,
   "metadata": {},
   "outputs": [
    {
     "name": "stdout",
     "output_type": "stream",
     "text": [
      "yuzvendra_chahal\n",
      "Generating cropped images in folder:  ./dataset/cropped/yuzvendra_chahal\n",
      "vijay_shankar\n",
      "Generating cropped images in folder:  ./dataset/cropped/vijay_shankar\n",
      "shane_warne\n",
      "Generating cropped images in folder:  ./dataset/cropped/shane_warne\n",
      "kane_williamson\n",
      "Generating cropped images in folder:  ./dataset/cropped/kane_williamson\n",
      "lasith_malinga\n",
      "Generating cropped images in folder:  ./dataset/cropped/lasith_malinga\n",
      "rohit_sharma\n",
      "Generating cropped images in folder:  ./dataset/cropped/rohit_sharma\n",
      "ricky_ponting\n",
      "Generating cropped images in folder:  ./dataset/cropped/ricky_ponting\n",
      "chris_gayle\n",
      "Generating cropped images in folder:  ./dataset/cropped/chris_gayle\n",
      "ben_stokes\n",
      "Generating cropped images in folder:  ./dataset/cropped/ben_stokes\n",
      "mitchell_starc\n",
      "Generating cropped images in folder:  ./dataset/cropped/mitchell_starc\n",
      "dinesh_karthik\n",
      "Generating cropped images in folder:  ./dataset/cropped/dinesh_karthik\n",
      "kumar_sangakkara\n",
      "Generating cropped images in folder:  ./dataset/cropped/kumar_sangakkara\n",
      "david_warner\n",
      "Generating cropped images in folder:  ./dataset/cropped/david_warner\n",
      "james_anderson\n",
      "Generating cropped images in folder:  ./dataset/cropped/james_anderson\n",
      "virat_kohli\n",
      "Generating cropped images in folder:  ./dataset/cropped/virat_kohli\n",
      "kedar_jadhav\n",
      "Generating cropped images in folder:  ./dataset/cropped/kedar_jadhav\n",
      "jonny_bairstow\n",
      "Generating cropped images in folder:  ./dataset/cropped/jonny_bairstow\n",
      "joe_root\n",
      "Generating cropped images in folder:  ./dataset/cropped/joe_root\n",
      "kuldeep_yadav\n",
      "Generating cropped images in folder:  ./dataset/cropped/kuldeep_yadav\n",
      "shikhar_dhawan\n",
      "Generating cropped images in folder:  ./dataset/cropped/shikhar_dhawan\n",
      "rashid_khan\n",
      "Generating cropped images in folder:  ./dataset/cropped/rashid_khan\n",
      "jos_buttler\n",
      "Generating cropped images in folder:  ./dataset/cropped/jos_buttler\n",
      "jasprit_bumrah\n",
      "Generating cropped images in folder:  ./dataset/cropped/jasprit_bumrah\n",
      "ms_dhoni\n",
      "Generating cropped images in folder:  ./dataset/cropped/ms_dhoni\n",
      "sachin_tendulkar\n",
      "Generating cropped images in folder:  ./dataset/cropped/sachin_tendulkar\n",
      "quinton_de_kock\n",
      "Generating cropped images in folder:  ./dataset/cropped/quinton_de_kock\n",
      "mohammed_shami\n",
      "Generating cropped images in folder:  ./dataset/cropped/mohammed_shami\n",
      "steve_smith\n",
      "Generating cropped images in folder:  ./dataset/cropped/steve_smith\n",
      "bhuvneshwar_kumar\n",
      "Generating cropped images in folder:  ./dataset/cropped/bhuvneshwar_kumar\n",
      "cropped\n",
      "ravindra_jadeja\n",
      "Generating cropped images in folder:  ./dataset/cropped/ravindra_jadeja\n",
      "babar_azam\n",
      "Generating cropped images in folder:  ./dataset/cropped/babar_azam\n",
      "hardik_pandya\n",
      "Generating cropped images in folder:  ./dataset/cropped/hardik_pandya\n",
      "trent_boult\n",
      "Generating cropped images in folder:  ./dataset/cropped/trent_boult\n",
      "k._l._rahul\n",
      "Generating cropped images in folder:  ./dataset/cropped/k._l._rahul\n"
     ]
    }
   ],
   "source": [
    "cropped_image_dirs = []\n",
    "celebrity_file_names_dict = {}\n",
    "\n",
    "for img_dir in img_dirs:\n",
    "    count = 1\n",
    "    celebrity_name = img_dir.split('/')[-1]\n",
    "    print(celebrity_name)\n",
    "    \n",
    "    celebrity_file_names_dict[celebrity_name] = []\n",
    "    \n",
    "    for entry in os.scandir(img_dir):\n",
    "        roi_color = get_cropped_image_if_2_eyes(entry.path)\n",
    "        if roi_color is not None:\n",
    "            cropped_folder = path_cropped_data+ celebrity_name\n",
    "            if not os.path.exists(cropped_folder):\n",
    "                os.makedirs(cropped_folder)\n",
    "                cropped_image_dirs.append(cropped_folder)\n",
    "                print(\"Generating cropped images in folder: \",cropped_folder)\n",
    "                \n",
    "            cropped_file_name = celebrity_name + str(count) + \".png\"\n",
    "            cropped_file_path = cropped_folder + \"/\" + cropped_file_name \n",
    "            \n",
    "            cv2.imwrite(cropped_file_path, roi_color)\n",
    "            celebrity_file_names_dict[celebrity_name].append(cropped_file_path)\n",
    "            count += 1 "
   ]
  },
  {
   "attachments": {},
   "cell_type": "markdown",
   "metadata": {},
   "source": [
    "After this, the data was cleaned manually. False images were detected manually and deleted.\n",
    "Since, the data was cleaned we need to update our celebrity name dictionary"
   ]
  },
  {
   "cell_type": "code",
   "execution_count": 177,
   "metadata": {},
   "outputs": [],
   "source": [
    "celebrity_file_names_dict = {}\n",
    "\n",
    "for img_dir in cropped_image_dirs:\n",
    "    celebrity_name = img_dir.split('/')[-1]\n",
    "    file_list = []\n",
    "    try:\n",
    "        for entry in os.scandir(img_dir):\n",
    "            file_list.append(entry.path)\n",
    "    except FileNotFoundError:\n",
    "        continue\n",
    "    celebrity_file_names_dict[celebrity_name] = file_list\n"
   ]
  },
  {
   "cell_type": "code",
   "execution_count": 178,
   "metadata": {},
   "outputs": [
    {
     "data": {
      "text/plain": [
       "{'rohit_sharma': ['./dataset/cropped/rohit_sharma/Rohit 66.png',\n",
       "  './dataset/cropped/rohit_sharma/Rohit 72.png',\n",
       "  './dataset/cropped/rohit_sharma/Rohit 73.png',\n",
       "  './dataset/cropped/rohit_sharma/Rohit 67.png',\n",
       "  './dataset/cropped/rohit_sharma/Rohit 71.png',\n",
       "  './dataset/cropped/rohit_sharma/Rohit 65.png',\n",
       "  './dataset/cropped/rohit_sharma/Rohit 59.png',\n",
       "  './dataset/cropped/rohit_sharma/Rohit 58.png',\n",
       "  './dataset/cropped/rohit_sharma/Rohit 64.png',\n",
       "  './dataset/cropped/rohit_sharma/Rohit 70.png',\n",
       "  './dataset/cropped/rohit_sharma/Rohit 48.png',\n",
       "  './dataset/cropped/rohit_sharma/Rohit 74.png',\n",
       "  './dataset/cropped/rohit_sharma/Rohit 60.png',\n",
       "  './dataset/cropped/rohit_sharma/.DS_Store',\n",
       "  './dataset/cropped/rohit_sharma/Rohit 61.png',\n",
       "  './dataset/cropped/rohit_sharma/Rohit 75.png',\n",
       "  './dataset/cropped/rohit_sharma/Rohit 49.png',\n",
       "  './dataset/cropped/rohit_sharma/Rohit 63.png',\n",
       "  './dataset/cropped/rohit_sharma/Rohit 77.png',\n",
       "  './dataset/cropped/rohit_sharma/Rohit 76.png',\n",
       "  './dataset/cropped/rohit_sharma/Rohit 62.png',\n",
       "  './dataset/cropped/rohit_sharma/Rohit 5.png',\n",
       "  './dataset/cropped/rohit_sharma/Rohit 11.png',\n",
       "  './dataset/cropped/rohit_sharma/Rohit 39.png',\n",
       "  './dataset/cropped/rohit_sharma/Rohit 38.png',\n",
       "  './dataset/cropped/rohit_sharma/Rohit 10.png',\n",
       "  './dataset/cropped/rohit_sharma/Rohit 4.png',\n",
       "  './dataset/cropped/rohit_sharma/Rohit 6.png',\n",
       "  './dataset/cropped/rohit_sharma/Rohit 12.png',\n",
       "  './dataset/cropped/rohit_sharma/Rohit 13.png',\n",
       "  './dataset/cropped/rohit_sharma/Rohit 7.png',\n",
       "  './dataset/cropped/rohit_sharma/Rohit 3.png',\n",
       "  './dataset/cropped/rohit_sharma/Rohit 17.png',\n",
       "  './dataset/cropped/rohit_sharma/Rohit 16.png',\n",
       "  './dataset/cropped/rohit_sharma/Rohit 2.png',\n",
       "  './dataset/cropped/rohit_sharma/Rohit 28.png',\n",
       "  './dataset/cropped/rohit_sharma/Rohit 14.png',\n",
       "  './dataset/cropped/rohit_sharma/Rohit 15.png',\n",
       "  './dataset/cropped/rohit_sharma/Rohit 29.png',\n",
       "  './dataset/cropped/rohit_sharma/Rohit 1.png',\n",
       "  './dataset/cropped/rohit_sharma/Rohit 24.png',\n",
       "  './dataset/cropped/rohit_sharma/Rohit 30.png',\n",
       "  './dataset/cropped/rohit_sharma/Rohit 18.png',\n",
       "  './dataset/cropped/rohit_sharma/Rohit 19.png',\n",
       "  './dataset/cropped/rohit_sharma/Rohit 31.png',\n",
       "  './dataset/cropped/rohit_sharma/Rohit 25.png',\n",
       "  './dataset/cropped/rohit_sharma/Rohit 33.png',\n",
       "  './dataset/cropped/rohit_sharma/Rohit 27.png',\n",
       "  './dataset/cropped/rohit_sharma/Rohit 26.png',\n",
       "  './dataset/cropped/rohit_sharma/Rohit 32.png',\n",
       "  './dataset/cropped/rohit_sharma/Rohit 36.png',\n",
       "  './dataset/cropped/rohit_sharma/Rohit 22.png',\n",
       "  './dataset/cropped/rohit_sharma/Rohit 23.png',\n",
       "  './dataset/cropped/rohit_sharma/Rohit 37.png',\n",
       "  './dataset/cropped/rohit_sharma/Rohit 9.png',\n",
       "  './dataset/cropped/rohit_sharma/Rohit 21.png',\n",
       "  './dataset/cropped/rohit_sharma/Rohit 35.png',\n",
       "  './dataset/cropped/rohit_sharma/Rohit 34.png',\n",
       "  './dataset/cropped/rohit_sharma/Rohit 20.png',\n",
       "  './dataset/cropped/rohit_sharma/Rohit 8.png',\n",
       "  './dataset/cropped/rohit_sharma/Rohit 47.png',\n",
       "  './dataset/cropped/rohit_sharma/Rohit 53.png',\n",
       "  './dataset/cropped/rohit_sharma/Rohit 52.png',\n",
       "  './dataset/cropped/rohit_sharma/Rohit 46.png',\n",
       "  './dataset/cropped/rohit_sharma/Rohit 50.png',\n",
       "  './dataset/cropped/rohit_sharma/Rohit 44.png',\n",
       "  './dataset/cropped/rohit_sharma/Rohit 45.png',\n",
       "  './dataset/cropped/rohit_sharma/Rohit 51.png',\n",
       "  './dataset/cropped/rohit_sharma/Rohit 69.png',\n",
       "  './dataset/cropped/rohit_sharma/Rohit 55.png',\n",
       "  './dataset/cropped/rohit_sharma/Rohit 41.png',\n",
       "  './dataset/cropped/rohit_sharma/Rohit 40.png',\n",
       "  './dataset/cropped/rohit_sharma/Rohit 54.png',\n",
       "  './dataset/cropped/rohit_sharma/Rohit 68.png',\n",
       "  './dataset/cropped/rohit_sharma/Rohit 42.png',\n",
       "  './dataset/cropped/rohit_sharma/Rohit 56.png',\n",
       "  './dataset/cropped/rohit_sharma/Rohit 57.png',\n",
       "  './dataset/cropped/rohit_sharma/Rohit 43.png'],\n",
       " 'ricky_ponting': ['./dataset/cropped/ricky_ponting/Ricky 47.png',\n",
       "  './dataset/cropped/ricky_ponting/Ricky 46.png',\n",
       "  './dataset/cropped/ricky_ponting/Ricky 44.png',\n",
       "  './dataset/cropped/ricky_ponting/Ricky 45.png',\n",
       "  './dataset/cropped/ricky_ponting/Ricky 41.png',\n",
       "  './dataset/cropped/ricky_ponting/.DS_Store',\n",
       "  './dataset/cropped/ricky_ponting/Ricky 40.png',\n",
       "  './dataset/cropped/ricky_ponting/Ricky 42.png',\n",
       "  './dataset/cropped/ricky_ponting/Ricky 8.png',\n",
       "  './dataset/cropped/ricky_ponting/Ricky 9.png',\n",
       "  './dataset/cropped/ricky_ponting/Ricky 43.png',\n",
       "  './dataset/cropped/ricky_ponting/Ricky 18.png',\n",
       "  './dataset/cropped/ricky_ponting/Ricky 24.png',\n",
       "  './dataset/cropped/ricky_ponting/Ricky 30.png',\n",
       "  './dataset/cropped/ricky_ponting/Ricky 31.png',\n",
       "  './dataset/cropped/ricky_ponting/Ricky 25.png',\n",
       "  './dataset/cropped/ricky_ponting/Ricky 19.png',\n",
       "  './dataset/cropped/ricky_ponting/Ricky 33.png',\n",
       "  './dataset/cropped/ricky_ponting/Ricky 27.png',\n",
       "  './dataset/cropped/ricky_ponting/Ricky 26.png',\n",
       "  './dataset/cropped/ricky_ponting/Ricky 32.png',\n",
       "  './dataset/cropped/ricky_ponting/Ricky 36.png',\n",
       "  './dataset/cropped/ricky_ponting/Ricky 22.png',\n",
       "  './dataset/cropped/ricky_ponting/Ricky 23.png',\n",
       "  './dataset/cropped/ricky_ponting/Ricky 37.png',\n",
       "  './dataset/cropped/ricky_ponting/Ricky 21.png',\n",
       "  './dataset/cropped/ricky_ponting/Ricky 35.png',\n",
       "  './dataset/cropped/ricky_ponting/Ricky 34.png',\n",
       "  './dataset/cropped/ricky_ponting/Ricky 20.png',\n",
       "  './dataset/cropped/ricky_ponting/Ricky 39.png',\n",
       "  './dataset/cropped/ricky_ponting/Ricky 11.png',\n",
       "  './dataset/cropped/ricky_ponting/Ricky 10.png',\n",
       "  './dataset/cropped/ricky_ponting/Ricky 38.png',\n",
       "  './dataset/cropped/ricky_ponting/Ricky 12.png',\n",
       "  './dataset/cropped/ricky_ponting/Ricky 13.png',\n",
       "  './dataset/cropped/ricky_ponting/Ricky 17.png',\n",
       "  './dataset/cropped/ricky_ponting/Ricky 16.png',\n",
       "  './dataset/cropped/ricky_ponting/Ricky 14.png',\n",
       "  './dataset/cropped/ricky_ponting/Ricky 28.png',\n",
       "  './dataset/cropped/ricky_ponting/Ricky 29.png',\n",
       "  './dataset/cropped/ricky_ponting/Ricky 15.png',\n",
       "  './dataset/cropped/ricky_ponting/Ricky 4.png',\n",
       "  './dataset/cropped/ricky_ponting/Ricky 5.png',\n",
       "  './dataset/cropped/ricky_ponting/Ricky 7.png',\n",
       "  './dataset/cropped/ricky_ponting/Ricky 6.png',\n",
       "  './dataset/cropped/ricky_ponting/Ricky 48.png',\n",
       "  './dataset/cropped/ricky_ponting/Ricky 2.png',\n",
       "  './dataset/cropped/ricky_ponting/Ricky 3.png',\n",
       "  './dataset/cropped/ricky_ponting/Ricky 1.png'],\n",
       " 'kumar_sangakkara': ['./dataset/cropped/kumar_sangakkara/Kumar 38.png',\n",
       "  './dataset/cropped/kumar_sangakkara/Kumar 10.png',\n",
       "  './dataset/cropped/kumar_sangakkara/Kumar 11.png',\n",
       "  './dataset/cropped/kumar_sangakkara/Kumar 39.png',\n",
       "  './dataset/cropped/kumar_sangakkara/Kumar 13.png',\n",
       "  './dataset/cropped/kumar_sangakkara/Kumar 12.png',\n",
       "  './dataset/cropped/kumar_sangakkara/.DS_Store',\n",
       "  './dataset/cropped/kumar_sangakkara/Kumar 16.png',\n",
       "  './dataset/cropped/kumar_sangakkara/Kumar 17.png',\n",
       "  './dataset/cropped/kumar_sangakkara/Kumar 15.png',\n",
       "  './dataset/cropped/kumar_sangakkara/Kumar 29.png',\n",
       "  './dataset/cropped/kumar_sangakkara/Kumar 28.png',\n",
       "  './dataset/cropped/kumar_sangakkara/Kumar 14.png',\n",
       "  './dataset/cropped/kumar_sangakkara/Kumar 5.png',\n",
       "  './dataset/cropped/kumar_sangakkara/Kumar 4.png',\n",
       "  './dataset/cropped/kumar_sangakkara/Kumar 6.png',\n",
       "  './dataset/cropped/kumar_sangakkara/Kumar 7.png',\n",
       "  './dataset/cropped/kumar_sangakkara/Kumar 3.png',\n",
       "  './dataset/cropped/kumar_sangakkara/Kumar 2.png',\n",
       "  './dataset/cropped/kumar_sangakkara/Kumar 1.png',\n",
       "  './dataset/cropped/kumar_sangakkara/Kumar 45.png',\n",
       "  './dataset/cropped/kumar_sangakkara/Kumar 44.png',\n",
       "  './dataset/cropped/kumar_sangakkara/Kumar 40.png',\n",
       "  './dataset/cropped/kumar_sangakkara/Kumar 41.png',\n",
       "  './dataset/cropped/kumar_sangakkara/Kumar 9.png',\n",
       "  './dataset/cropped/kumar_sangakkara/Kumar 43.png',\n",
       "  './dataset/cropped/kumar_sangakkara/Kumar 42.png',\n",
       "  './dataset/cropped/kumar_sangakkara/Kumar 8.png',\n",
       "  './dataset/cropped/kumar_sangakkara/Kumar 19.png',\n",
       "  './dataset/cropped/kumar_sangakkara/Kumar 31.png',\n",
       "  './dataset/cropped/kumar_sangakkara/Kumar 25.png',\n",
       "  './dataset/cropped/kumar_sangakkara/Kumar 24.png',\n",
       "  './dataset/cropped/kumar_sangakkara/Kumar 30.png',\n",
       "  './dataset/cropped/kumar_sangakkara/Kumar 18.png',\n",
       "  './dataset/cropped/kumar_sangakkara/Kumar 26.png',\n",
       "  './dataset/cropped/kumar_sangakkara/Kumar 32.png',\n",
       "  './dataset/cropped/kumar_sangakkara/Kumar 33.png',\n",
       "  './dataset/cropped/kumar_sangakkara/Kumar 27.png',\n",
       "  './dataset/cropped/kumar_sangakkara/Kumar 23.png',\n",
       "  './dataset/cropped/kumar_sangakkara/Kumar 37.png',\n",
       "  './dataset/cropped/kumar_sangakkara/Kumar 36.png',\n",
       "  './dataset/cropped/kumar_sangakkara/Kumar 22.png',\n",
       "  './dataset/cropped/kumar_sangakkara/Kumar 34.png',\n",
       "  './dataset/cropped/kumar_sangakkara/Kumar 20.png',\n",
       "  './dataset/cropped/kumar_sangakkara/Kumar 21.png',\n",
       "  './dataset/cropped/kumar_sangakkara/Kumar 35.png'],\n",
       " 'virat_kohli': ['./dataset/cropped/virat_kohli/Virat137.png',\n",
       "  './dataset/cropped/virat_kohli/Virat20.png',\n",
       "  './dataset/cropped/virat_kohli/Virat34.png',\n",
       "  './dataset/cropped/virat_kohli/Virat123.png',\n",
       "  './dataset/cropped/virat_kohli/Virat35.png',\n",
       "  './dataset/cropped/virat_kohli/Virat122.png',\n",
       "  './dataset/cropped/virat_kohli/Virat136.png',\n",
       "  './dataset/cropped/virat_kohli/Virat21.png',\n",
       "  './dataset/cropped/virat_kohli/Virat120.png',\n",
       "  './dataset/cropped/virat_kohli/Virat37.png',\n",
       "  './dataset/cropped/virat_kohli/Virat23.png',\n",
       "  './dataset/cropped/virat_kohli/Virat134.png',\n",
       "  './dataset/cropped/virat_kohli/Virat108.png',\n",
       "  './dataset/cropped/virat_kohli/Virat109.png',\n",
       "  './dataset/cropped/virat_kohli/Virat22.png',\n",
       "  './dataset/cropped/virat_kohli/Virat135.png',\n",
       "  './dataset/cropped/virat_kohli/Virat121.png',\n",
       "  './dataset/cropped/virat_kohli/Virat36.png',\n",
       "  './dataset/cropped/virat_kohli/Virat119.png',\n",
       "  './dataset/cropped/virat_kohli/Virat32.png',\n",
       "  './dataset/cropped/virat_kohli/Virat125.png',\n",
       "  './dataset/cropped/virat_kohli/Virat131.png',\n",
       "  './dataset/cropped/virat_kohli/Virat26.png',\n",
       "  './dataset/cropped/virat_kohli/.DS_Store',\n",
       "  './dataset/cropped/virat_kohli/Virat130.png',\n",
       "  './dataset/cropped/virat_kohli/Virat27.png',\n",
       "  './dataset/cropped/virat_kohli/Virat33.png',\n",
       "  './dataset/cropped/virat_kohli/Virat124.png',\n",
       "  './dataset/cropped/virat_kohli/Virat118.png',\n",
       "  './dataset/cropped/virat_kohli/Virat19.png',\n",
       "  './dataset/cropped/virat_kohli/Virat25.png',\n",
       "  './dataset/cropped/virat_kohli/Virat132.png',\n",
       "  './dataset/cropped/virat_kohli/Virat126.png',\n",
       "  './dataset/cropped/virat_kohli/Virat31.png',\n",
       "  './dataset/cropped/virat_kohli/Virat127.png',\n",
       "  './dataset/cropped/virat_kohli/Virat30.png',\n",
       "  './dataset/cropped/virat_kohli/Virat24.png',\n",
       "  './dataset/cropped/virat_kohli/Virat133.png',\n",
       "  './dataset/cropped/virat_kohli/Virat18.png',\n",
       "  './dataset/cropped/virat_kohli/Virat6.png',\n",
       "  './dataset/cropped/virat_kohli/Virat80.png',\n",
       "  './dataset/cropped/virat_kohli/Virat183.png',\n",
       "  './dataset/cropped/virat_kohli/Virat94.png',\n",
       "  './dataset/cropped/virat_kohli/Virat43.png',\n",
       "  './dataset/cropped/virat_kohli/Virat154.png',\n",
       "  './dataset/cropped/virat_kohli/Virat140.png',\n",
       "  './dataset/cropped/virat_kohli/Virat57.png',\n",
       "  './dataset/cropped/virat_kohli/Virat168.png',\n",
       "  './dataset/cropped/virat_kohli/Virat169.png',\n",
       "  './dataset/cropped/virat_kohli/Virat141.png',\n",
       "  './dataset/cropped/virat_kohli/Virat56.png',\n",
       "  './dataset/cropped/virat_kohli/Virat42.png',\n",
       "  './dataset/cropped/virat_kohli/Virat155.png',\n",
       "  './dataset/cropped/virat_kohli/Virat182.png',\n",
       "  './dataset/cropped/virat_kohli/Virat95.png',\n",
       "  './dataset/cropped/virat_kohli/Virat81.png',\n",
       "  './dataset/cropped/virat_kohli/Virat7.png',\n",
       "  './dataset/cropped/virat_kohli/Virat5.png',\n",
       "  './dataset/cropped/virat_kohli/Virat97.png',\n",
       "  './dataset/cropped/virat_kohli/Virat180.png',\n",
       "  './dataset/cropped/virat_kohli/Virat83.png',\n",
       "  './dataset/cropped/virat_kohli/Virat54.png',\n",
       "  './dataset/cropped/virat_kohli/Virat143.png',\n",
       "  './dataset/cropped/virat_kohli/Virat157.png',\n",
       "  './dataset/cropped/virat_kohli/Virat40.png',\n",
       "  './dataset/cropped/virat_kohli/Virat68.png',\n",
       "  './dataset/cropped/virat_kohli/Virat69.png',\n",
       "  './dataset/cropped/virat_kohli/Virat156.png',\n",
       "  './dataset/cropped/virat_kohli/Virat41.png',\n",
       "  './dataset/cropped/virat_kohli/Virat55.png',\n",
       "  './dataset/cropped/virat_kohli/Virat142.png',\n",
       "  './dataset/cropped/virat_kohli/Virat82.png',\n",
       "  './dataset/cropped/virat_kohli/Virat96.png',\n",
       "  './dataset/cropped/virat_kohli/Virat181.png',\n",
       "  './dataset/cropped/virat_kohli/Virat4.png',\n",
       "  './dataset/cropped/virat_kohli/Virat92.png',\n",
       "  './dataset/cropped/virat_kohli/Virat86.png',\n",
       "  './dataset/cropped/virat_kohli/Virat79.png',\n",
       "  './dataset/cropped/virat_kohli/Virat146.png',\n",
       "  './dataset/cropped/virat_kohli/Virat51.png',\n",
       "  './dataset/cropped/virat_kohli/Virat45.png',\n",
       "  './dataset/cropped/virat_kohli/Virat152.png',\n",
       "  './dataset/cropped/virat_kohli/Virat44.png',\n",
       "  './dataset/cropped/virat_kohli/Virat153.png',\n",
       "  './dataset/cropped/virat_kohli/Virat147.png',\n",
       "  './dataset/cropped/virat_kohli/Virat50.png',\n",
       "  './dataset/cropped/virat_kohli/Virat78.png',\n",
       "  './dataset/cropped/virat_kohli/Virat87.png',\n",
       "  './dataset/cropped/virat_kohli/Virat93.png',\n",
       "  './dataset/cropped/virat_kohli/Virat1.png',\n",
       "  './dataset/cropped/virat_kohli/Virat3.png',\n",
       "  './dataset/cropped/virat_kohli/Virat85.png',\n",
       "  './dataset/cropped/virat_kohli/Virat91.png',\n",
       "  './dataset/cropped/virat_kohli/Virat179.png',\n",
       "  './dataset/cropped/virat_kohli/Virat151.png',\n",
       "  './dataset/cropped/virat_kohli/Virat46.png',\n",
       "  './dataset/cropped/virat_kohli/Virat52.png',\n",
       "  './dataset/cropped/virat_kohli/Virat145.png',\n",
       "  './dataset/cropped/virat_kohli/Virat53.png',\n",
       "  './dataset/cropped/virat_kohli/Virat144.png',\n",
       "  './dataset/cropped/virat_kohli/Virat150.png',\n",
       "  './dataset/cropped/virat_kohli/Virat47.png',\n",
       "  './dataset/cropped/virat_kohli/Virat178.png',\n",
       "  './dataset/cropped/virat_kohli/Virat90.png',\n",
       "  './dataset/cropped/virat_kohli/Virat84.png',\n",
       "  './dataset/cropped/virat_kohli/Virat2.png',\n",
       "  './dataset/cropped/virat_kohli/Virat89.png',\n",
       "  './dataset/cropped/virat_kohli/Virat62.png',\n",
       "  './dataset/cropped/virat_kohli/Virat175.png',\n",
       "  './dataset/cropped/virat_kohli/Virat161.png',\n",
       "  './dataset/cropped/virat_kohli/Virat76.png',\n",
       "  './dataset/cropped/virat_kohli/Virat149.png',\n",
       "  './dataset/cropped/virat_kohli/Virat148.png',\n",
       "  './dataset/cropped/virat_kohli/Virat160.png',\n",
       "  './dataset/cropped/virat_kohli/Virat77.png',\n",
       "  './dataset/cropped/virat_kohli/Virat63.png',\n",
       "  './dataset/cropped/virat_kohli/Virat174.png',\n",
       "  './dataset/cropped/virat_kohli/Virat88.png',\n",
       "  './dataset/cropped/virat_kohli/Virat75.png',\n",
       "  './dataset/cropped/virat_kohli/Virat162.png',\n",
       "  './dataset/cropped/virat_kohli/Virat176.png',\n",
       "  './dataset/cropped/virat_kohli/Virat61.png',\n",
       "  './dataset/cropped/virat_kohli/Virat49.png',\n",
       "  './dataset/cropped/virat_kohli/Virat48.png',\n",
       "  './dataset/cropped/virat_kohli/Virat177.png',\n",
       "  './dataset/cropped/virat_kohli/Virat60.png',\n",
       "  './dataset/cropped/virat_kohli/Virat74.png',\n",
       "  './dataset/cropped/virat_kohli/Virat163.png',\n",
       "  './dataset/cropped/virat_kohli/Virat9.png',\n",
       "  './dataset/cropped/virat_kohli/Virat58.png',\n",
       "  './dataset/cropped/virat_kohli/Virat167.png',\n",
       "  './dataset/cropped/virat_kohli/Virat70.png',\n",
       "  './dataset/cropped/virat_kohli/Virat64.png',\n",
       "  './dataset/cropped/virat_kohli/Virat173.png',\n",
       "  './dataset/cropped/virat_kohli/Virat65.png',\n",
       "  './dataset/cropped/virat_kohli/Virat172.png',\n",
       "  './dataset/cropped/virat_kohli/Virat166.png',\n",
       "  './dataset/cropped/virat_kohli/Virat71.png',\n",
       "  './dataset/cropped/virat_kohli/Virat59.png',\n",
       "  './dataset/cropped/virat_kohli/Virat8.png',\n",
       "  './dataset/cropped/virat_kohli/Virat98.png',\n",
       "  './dataset/cropped/virat_kohli/Virat158.png',\n",
       "  './dataset/cropped/virat_kohli/Virat170.png',\n",
       "  './dataset/cropped/virat_kohli/Virat67.png',\n",
       "  './dataset/cropped/virat_kohli/Virat73.png',\n",
       "  './dataset/cropped/virat_kohli/Virat164.png',\n",
       "  './dataset/cropped/virat_kohli/Virat72.png',\n",
       "  './dataset/cropped/virat_kohli/Virat165.png',\n",
       "  './dataset/cropped/virat_kohli/Virat171.png',\n",
       "  './dataset/cropped/virat_kohli/Virat66.png',\n",
       "  './dataset/cropped/virat_kohli/Virat159.png',\n",
       "  './dataset/cropped/virat_kohli/Virat99.png',\n",
       "  './dataset/cropped/virat_kohli/Virat116.png',\n",
       "  './dataset/cropped/virat_kohli/Virat15.png',\n",
       "  './dataset/cropped/virat_kohli/Virat102.png',\n",
       "  './dataset/cropped/virat_kohli/Virat29.png',\n",
       "  './dataset/cropped/virat_kohli/Virat28.png',\n",
       "  './dataset/cropped/virat_kohli/Virat14.png',\n",
       "  './dataset/cropped/virat_kohli/Virat103.png',\n",
       "  './dataset/cropped/virat_kohli/Virat117.png',\n",
       "  './dataset/cropped/virat_kohli/Virat101.png',\n",
       "  './dataset/cropped/virat_kohli/Virat16.png',\n",
       "  './dataset/cropped/virat_kohli/Virat115.png',\n",
       "  './dataset/cropped/virat_kohli/Virat129.png',\n",
       "  './dataset/cropped/virat_kohli/Virat128.png',\n",
       "  './dataset/cropped/virat_kohli/Virat114.png',\n",
       "  './dataset/cropped/virat_kohli/Virat100.png',\n",
       "  './dataset/cropped/virat_kohli/Virat17.png',\n",
       "  './dataset/cropped/virat_kohli/Virat138.png',\n",
       "  './dataset/cropped/virat_kohli/Virat13.png',\n",
       "  './dataset/cropped/virat_kohli/Virat104.png',\n",
       "  './dataset/cropped/virat_kohli/Virat110.png',\n",
       "  './dataset/cropped/virat_kohli/Virat111.png',\n",
       "  './dataset/cropped/virat_kohli/Virat12.png',\n",
       "  './dataset/cropped/virat_kohli/Virat105.png',\n",
       "  './dataset/cropped/virat_kohli/Virat139.png',\n",
       "  './dataset/cropped/virat_kohli/Virat38.png',\n",
       "  './dataset/cropped/virat_kohli/Virat113.png',\n",
       "  './dataset/cropped/virat_kohli/Virat107.png',\n",
       "  './dataset/cropped/virat_kohli/Virat10.png',\n",
       "  './dataset/cropped/virat_kohli/Virat106.png',\n",
       "  './dataset/cropped/virat_kohli/Virat11.png',\n",
       "  './dataset/cropped/virat_kohli/Virat112.png',\n",
       "  './dataset/cropped/virat_kohli/Virat39.png'],\n",
       " 'ms_dhoni': ['./dataset/cropped/ms_dhoni/Dhoni 39.png',\n",
       "  './dataset/cropped/ms_dhoni/Dhoni 11.png',\n",
       "  './dataset/cropped/ms_dhoni/Dhoni 10.png',\n",
       "  './dataset/cropped/ms_dhoni/Dhoni 38.png',\n",
       "  './dataset/cropped/ms_dhoni/Dhoni 12.png',\n",
       "  './dataset/cropped/ms_dhoni/Dhoni 13.png',\n",
       "  './dataset/cropped/ms_dhoni/Dhoni 17.png',\n",
       "  './dataset/cropped/ms_dhoni/.DS_Store',\n",
       "  './dataset/cropped/ms_dhoni/Dhoni 16.png',\n",
       "  './dataset/cropped/ms_dhoni/Dhoni 14.png',\n",
       "  './dataset/cropped/ms_dhoni/Dhoni 28.png',\n",
       "  './dataset/cropped/ms_dhoni/Dhoni 29.png',\n",
       "  './dataset/cropped/ms_dhoni/Dhoni 15.png',\n",
       "  './dataset/cropped/ms_dhoni/Dhoni 72.png',\n",
       "  './dataset/cropped/ms_dhoni/Dhoni 66.png',\n",
       "  './dataset/cropped/ms_dhoni/Dhoni 67.png',\n",
       "  './dataset/cropped/ms_dhoni/Dhoni 73.png',\n",
       "  './dataset/cropped/ms_dhoni/Dhoni 59.png',\n",
       "  './dataset/cropped/ms_dhoni/Dhoni 65.png',\n",
       "  './dataset/cropped/ms_dhoni/Dhoni 71.png',\n",
       "  './dataset/cropped/ms_dhoni/Dhoni 70.png',\n",
       "  './dataset/cropped/ms_dhoni/Dhoni 64.png',\n",
       "  './dataset/cropped/ms_dhoni/Dhoni 58.png',\n",
       "  './dataset/cropped/ms_dhoni/Dhoni 60.png',\n",
       "  './dataset/cropped/ms_dhoni/Dhoni 74.png',\n",
       "  './dataset/cropped/ms_dhoni/Dhoni 8.png',\n",
       "  './dataset/cropped/ms_dhoni/Dhoni 48.png',\n",
       "  './dataset/cropped/ms_dhoni/Dhoni 49.png',\n",
       "  './dataset/cropped/ms_dhoni/Dhoni 9.png',\n",
       "  './dataset/cropped/ms_dhoni/Dhoni 75.png',\n",
       "  './dataset/cropped/ms_dhoni/Dhoni 61.png',\n",
       "  './dataset/cropped/ms_dhoni/Dhoni 77.png',\n",
       "  './dataset/cropped/ms_dhoni/Dhoni 63.png',\n",
       "  './dataset/cropped/ms_dhoni/Dhoni 62.png',\n",
       "  './dataset/cropped/ms_dhoni/Dhoni 76.png',\n",
       "  './dataset/cropped/ms_dhoni/Dhoni 7.png',\n",
       "  './dataset/cropped/ms_dhoni/Dhoni 53.png',\n",
       "  './dataset/cropped/ms_dhoni/Dhoni 47.png',\n",
       "  './dataset/cropped/ms_dhoni/Dhoni 46.png',\n",
       "  './dataset/cropped/ms_dhoni/Dhoni 52.png',\n",
       "  './dataset/cropped/ms_dhoni/Dhoni 6.png',\n",
       "  './dataset/cropped/ms_dhoni/Dhoni 4.png',\n",
       "  './dataset/cropped/ms_dhoni/Dhoni 78.png',\n",
       "  './dataset/cropped/ms_dhoni/Dhoni 44.png',\n",
       "  './dataset/cropped/ms_dhoni/Dhoni 50.png',\n",
       "  './dataset/cropped/ms_dhoni/Dhoni 51.png',\n",
       "  './dataset/cropped/ms_dhoni/Dhoni 45.png',\n",
       "  './dataset/cropped/ms_dhoni/Dhoni 79.png',\n",
       "  './dataset/cropped/ms_dhoni/Dhoni 5.png',\n",
       "  './dataset/cropped/ms_dhoni/Dhoni 41.png',\n",
       "  './dataset/cropped/ms_dhoni/Dhoni 55.png',\n",
       "  './dataset/cropped/ms_dhoni/Dhoni 1.png',\n",
       "  './dataset/cropped/ms_dhoni/Dhoni 69.png',\n",
       "  './dataset/cropped/ms_dhoni/Dhoni 68.png',\n",
       "  './dataset/cropped/ms_dhoni/Dhoni 54.png',\n",
       "  './dataset/cropped/ms_dhoni/Dhoni 40.png',\n",
       "  './dataset/cropped/ms_dhoni/Dhoni 56.png',\n",
       "  './dataset/cropped/ms_dhoni/Dhoni 42.png',\n",
       "  './dataset/cropped/ms_dhoni/Dhoni 2.png',\n",
       "  './dataset/cropped/ms_dhoni/Dhoni 3.png',\n",
       "  './dataset/cropped/ms_dhoni/Dhoni 43.png',\n",
       "  './dataset/cropped/ms_dhoni/Dhoni 57.png',\n",
       "  './dataset/cropped/ms_dhoni/Dhoni 18.png',\n",
       "  './dataset/cropped/ms_dhoni/Dhoni 30.png',\n",
       "  './dataset/cropped/ms_dhoni/Dhoni 24.png',\n",
       "  './dataset/cropped/ms_dhoni/Dhoni 25.png',\n",
       "  './dataset/cropped/ms_dhoni/Dhoni 31.png',\n",
       "  './dataset/cropped/ms_dhoni/Dhoni 19.png',\n",
       "  './dataset/cropped/ms_dhoni/Dhoni 27.png',\n",
       "  './dataset/cropped/ms_dhoni/Dhoni 33.png',\n",
       "  './dataset/cropped/ms_dhoni/Dhoni 32.png',\n",
       "  './dataset/cropped/ms_dhoni/Dhoni 26.png',\n",
       "  './dataset/cropped/ms_dhoni/Dhoni 22.png',\n",
       "  './dataset/cropped/ms_dhoni/Dhoni 36.png',\n",
       "  './dataset/cropped/ms_dhoni/Dhoni 37.png',\n",
       "  './dataset/cropped/ms_dhoni/Dhoni 23.png',\n",
       "  './dataset/cropped/ms_dhoni/Dhoni 35.png',\n",
       "  './dataset/cropped/ms_dhoni/Dhoni 21.png',\n",
       "  './dataset/cropped/ms_dhoni/Dhoni 20.png',\n",
       "  './dataset/cropped/ms_dhoni/Dhoni 34.png'],\n",
       " 'sachin_tendulkar': ['./dataset/cropped/sachin_tendulkar/Sachin 36.png',\n",
       "  './dataset/cropped/sachin_tendulkar/Sachin 22.png',\n",
       "  './dataset/cropped/sachin_tendulkar/Sachin 23.png',\n",
       "  './dataset/cropped/sachin_tendulkar/Sachin 37.png',\n",
       "  './dataset/cropped/sachin_tendulkar/Sachin 21.png',\n",
       "  './dataset/cropped/sachin_tendulkar/Sachin 35.png',\n",
       "  './dataset/cropped/sachin_tendulkar/Sachin 34.png',\n",
       "  './dataset/cropped/sachin_tendulkar/Sachin 20.png',\n",
       "  './dataset/cropped/sachin_tendulkar/.DS_Store',\n",
       "  './dataset/cropped/sachin_tendulkar/Sachin 24.png',\n",
       "  './dataset/cropped/sachin_tendulkar/Sachin 30.png',\n",
       "  './dataset/cropped/sachin_tendulkar/Sachin 18.png',\n",
       "  './dataset/cropped/sachin_tendulkar/Sachin 19.png',\n",
       "  './dataset/cropped/sachin_tendulkar/Sachin 31.png',\n",
       "  './dataset/cropped/sachin_tendulkar/Sachin 25.png',\n",
       "  './dataset/cropped/sachin_tendulkar/Sachin 33.png',\n",
       "  './dataset/cropped/sachin_tendulkar/Sachin 27.png',\n",
       "  './dataset/cropped/sachin_tendulkar/Sachin 26.png',\n",
       "  './dataset/cropped/sachin_tendulkar/Sachin 32.png',\n",
       "  './dataset/cropped/sachin_tendulkar/Sachin 69.png',\n",
       "  './dataset/cropped/sachin_tendulkar/Sachin 55.png',\n",
       "  './dataset/cropped/sachin_tendulkar/Sachin 41.png',\n",
       "  './dataset/cropped/sachin_tendulkar/Sachin 40.png',\n",
       "  './dataset/cropped/sachin_tendulkar/Sachin 54.png',\n",
       "  './dataset/cropped/sachin_tendulkar/Sachin 68.png',\n",
       "  './dataset/cropped/sachin_tendulkar/Sachin 42.png',\n",
       "  './dataset/cropped/sachin_tendulkar/Sachin 56.png',\n",
       "  './dataset/cropped/sachin_tendulkar/Sachin 57.png',\n",
       "  './dataset/cropped/sachin_tendulkar/Sachin 43.png',\n",
       "  './dataset/cropped/sachin_tendulkar/Sachin 80.png',\n",
       "  './dataset/cropped/sachin_tendulkar/Sachin 9.png',\n",
       "  './dataset/cropped/sachin_tendulkar/Sachin 47.png',\n",
       "  './dataset/cropped/sachin_tendulkar/Sachin 53.png',\n",
       "  './dataset/cropped/sachin_tendulkar/Sachin 52.png',\n",
       "  './dataset/cropped/sachin_tendulkar/Sachin 46.png',\n",
       "  './dataset/cropped/sachin_tendulkar/Sachin 8.png',\n",
       "  './dataset/cropped/sachin_tendulkar/Sachin 50.png',\n",
       "  './dataset/cropped/sachin_tendulkar/Sachin 44.png',\n",
       "  './dataset/cropped/sachin_tendulkar/Sachin 78.png',\n",
       "  './dataset/cropped/sachin_tendulkar/Sachin 79.png',\n",
       "  './dataset/cropped/sachin_tendulkar/Sachin 45.png',\n",
       "  './dataset/cropped/sachin_tendulkar/Sachin 51.png',\n",
       "  './dataset/cropped/sachin_tendulkar/Sachin 6.png',\n",
       "  './dataset/cropped/sachin_tendulkar/Sachin 48.png',\n",
       "  './dataset/cropped/sachin_tendulkar/Sachin 74.png',\n",
       "  './dataset/cropped/sachin_tendulkar/Sachin 60.png',\n",
       "  './dataset/cropped/sachin_tendulkar/Sachin 61.png',\n",
       "  './dataset/cropped/sachin_tendulkar/Sachin 75.png',\n",
       "  './dataset/cropped/sachin_tendulkar/Sachin 49.png',\n",
       "  './dataset/cropped/sachin_tendulkar/Sachin 7.png',\n",
       "  './dataset/cropped/sachin_tendulkar/Sachin 5.png',\n",
       "  './dataset/cropped/sachin_tendulkar/Sachin 63.png',\n",
       "  './dataset/cropped/sachin_tendulkar/Sachin 77.png',\n",
       "  './dataset/cropped/sachin_tendulkar/Sachin 76.png',\n",
       "  './dataset/cropped/sachin_tendulkar/Sachin 62.png',\n",
       "  './dataset/cropped/sachin_tendulkar/Sachin 4.png',\n",
       "  './dataset/cropped/sachin_tendulkar/Sachin 66.png',\n",
       "  './dataset/cropped/sachin_tendulkar/Sachin 72.png',\n",
       "  './dataset/cropped/sachin_tendulkar/Sachin 73.png',\n",
       "  './dataset/cropped/sachin_tendulkar/Sachin 67.png',\n",
       "  './dataset/cropped/sachin_tendulkar/Sachin 1.png',\n",
       "  './dataset/cropped/sachin_tendulkar/Sachin 3.png',\n",
       "  './dataset/cropped/sachin_tendulkar/Sachin 71.png',\n",
       "  './dataset/cropped/sachin_tendulkar/Sachin 65.png',\n",
       "  './dataset/cropped/sachin_tendulkar/Sachin 59.png',\n",
       "  './dataset/cropped/sachin_tendulkar/Sachin 58.png',\n",
       "  './dataset/cropped/sachin_tendulkar/Sachin 64.png',\n",
       "  './dataset/cropped/sachin_tendulkar/Sachin 70.png',\n",
       "  './dataset/cropped/sachin_tendulkar/Sachin 2.png',\n",
       "  './dataset/cropped/sachin_tendulkar/Sachin 17.png',\n",
       "  './dataset/cropped/sachin_tendulkar/Sachin 16.png',\n",
       "  './dataset/cropped/sachin_tendulkar/Sachin 28.png',\n",
       "  './dataset/cropped/sachin_tendulkar/Sachin 14.png',\n",
       "  './dataset/cropped/sachin_tendulkar/Sachin 15.png',\n",
       "  './dataset/cropped/sachin_tendulkar/Sachin 29.png',\n",
       "  './dataset/cropped/sachin_tendulkar/Sachin 11.png',\n",
       "  './dataset/cropped/sachin_tendulkar/Sachin 39.png',\n",
       "  './dataset/cropped/sachin_tendulkar/Sachin 38.png',\n",
       "  './dataset/cropped/sachin_tendulkar/Sachin 10.png',\n",
       "  './dataset/cropped/sachin_tendulkar/Sachin 12.png',\n",
       "  './dataset/cropped/sachin_tendulkar/Sachin 13.png']}"
      ]
     },
     "execution_count": 178,
     "metadata": {},
     "output_type": "execute_result"
    }
   ],
   "source": [
    "celebrity_file_names_dict"
   ]
  },
  {
   "cell_type": "markdown",
   "metadata": {},
   "source": [
    "## 4. Feature Engineering"
   ]
  },
  {
   "attachments": {},
   "cell_type": "markdown",
   "metadata": {},
   "source": [
    "Feature engineering was done using PyWavelets, which converted the images to wavelet forms after grayscaling them to make the patterns recognizable to the model. Finally, the test train split was performed using scikit-learn, and to handle the data imbalance, the SMOTE oversampling method was used."
   ]
  },
  {
   "cell_type": "code",
   "execution_count": null,
   "metadata": {},
   "outputs": [],
   "source": [
    "import numpy as np\n",
    "import pywt"
   ]
  },
  {
   "cell_type": "code",
   "execution_count": 179,
   "metadata": {},
   "outputs": [],
   "source": [
    "def w2d(imArray, mode='haar', level=1):\n",
    "    imArray = cv2.cvtColor( imArray,cv2.COLOR_RGB2GRAY )\n",
    "    imArray =  np.float32(imArray)   \n",
    "    imArray /= 255\n",
    "    coeffs=pywt.wavedec2(imArray, mode, level=level)\n",
    "    coeffs_H=list(coeffs)  \n",
    "    coeffs_H[0] *= 0;  \n",
    "    imArray_H=pywt.waverec2(coeffs_H, mode)\n",
    "    imArray_H *= 255\n",
    "    imArray_H =  np.uint8(imArray_H)\n",
    "\n",
    "    return imArray_H"
   ]
  },
  {
   "cell_type": "code",
   "execution_count": 180,
   "metadata": {},
   "outputs": [],
   "source": [
    "class_dict = {}\n",
    "count = 0\n",
    "for celebrity_name in celebrity_file_names_dict.keys():\n",
    "    class_dict[celebrity_name] = count\n",
    "    count = count + 1"
   ]
  },
  {
   "cell_type": "code",
   "execution_count": 181,
   "metadata": {},
   "outputs": [
    {
     "data": {
      "text/plain": [
       "{'rohit_sharma': 0,\n",
       " 'ricky_ponting': 1,\n",
       " 'kumar_sangakkara': 2,\n",
       " 'virat_kohli': 3,\n",
       " 'ms_dhoni': 4,\n",
       " 'sachin_tendulkar': 5}"
      ]
     },
     "execution_count": 181,
     "metadata": {},
     "output_type": "execute_result"
    }
   ],
   "source": [
    "class_dict"
   ]
  },
  {
   "cell_type": "code",
   "execution_count": 182,
   "metadata": {},
   "outputs": [],
   "source": [
    "X, y = [], []\n",
    "for celebrity_name, training_files in celebrity_file_names_dict.items():\n",
    "    for training_image in training_files:\n",
    "        img = cv2.imread(training_image)\n",
    "        if img is None or img.size == 0:\n",
    "            continue\n",
    "        scalled_raw_img = cv2.resize(img, (32, 32))\n",
    "        img_har = w2d(img,'db1',5)\n",
    "        scalled_img_har = cv2.resize(img_har, (32, 32))\n",
    "        combined_img = np.vstack((scalled_raw_img.reshape(32*32*3,1),scalled_img_har.reshape(32*32,1)))\n",
    "        X.append(combined_img)\n",
    "        y.append(class_dict[celebrity_name])     "
   ]
  },
  {
   "cell_type": "code",
   "execution_count": 183,
   "metadata": {},
   "outputs": [
    {
     "data": {
      "text/plain": [
       "(512, 4096, 1)"
      ]
     },
     "execution_count": 183,
     "metadata": {},
     "output_type": "execute_result"
    }
   ],
   "source": [
    "X = np.array(X).astype(float)\n",
    "y = np.array(y).astype(float)\n",
    "X.shape"
   ]
  },
  {
   "cell_type": "code",
   "execution_count": 184,
   "metadata": {},
   "outputs": [
    {
     "data": {
      "text/plain": [
       "(512, 4096)"
      ]
     },
     "execution_count": 184,
     "metadata": {},
     "output_type": "execute_result"
    }
   ],
   "source": [
    "X = X.reshape(-1, 4096)\n",
    "X.shape"
   ]
  },
  {
   "cell_type": "code",
   "execution_count": 185,
   "metadata": {},
   "outputs": [],
   "source": [
    "from sklearn.model_selection import train_test_split\n",
    "from imblearn.over_sampling import SMOTE\n",
    "X_train, X_test, y_train, y_test = train_test_split(X, y, random_state=0, stratify=y)\n",
    "smote = SMOTE()\n",
    "X_train_resampled, y_train_resampled = smote.fit_resample(X_train, y_train)"
   ]
  },
  {
   "attachments": {},
   "cell_type": "markdown",
   "metadata": {},
   "source": [
    "## 5. Model Selection"
   ]
  },
  {
   "cell_type": "code",
   "execution_count": 186,
   "metadata": {},
   "outputs": [],
   "source": [
    "from sklearn import svm\n",
    "from sklearn.ensemble import RandomForestClassifier\n",
    "from sklearn.linear_model import LogisticRegression\n",
    "from sklearn.pipeline import make_pipeline\n",
    "from sklearn.model_selection import GridSearchCV\n",
    "from sklearn.preprocessing import StandardScaler"
   ]
  },
  {
   "cell_type": "code",
   "execution_count": 187,
   "metadata": {},
   "outputs": [],
   "source": [
    "model_params = {\n",
    "    'svm': {\n",
    "        'model': svm.SVC(gamma='auto',probability=True),\n",
    "        'params' : {\n",
    "            'svc__C': [1,10,100,1000],\n",
    "            'svc__kernel': ['rbf','linear']\n",
    "        }  \n",
    "    },\n",
    "    'random_forest': {\n",
    "        'model': RandomForestClassifier(),\n",
    "        'params' : {\n",
    "            'randomforestclassifier__n_estimators': [1,5,10]\n",
    "        }\n",
    "    },\n",
    "    'logistic_regression' : {\n",
    "        'model': LogisticRegression(solver='liblinear',multi_class='auto'),\n",
    "        'params': {\n",
    "            'logisticregression__C': [1,5,10]\n",
    "        },\n",
    "    }\n",
    "    }"
   ]
  },
  {
   "cell_type": "code",
   "execution_count": 189,
   "metadata": {},
   "outputs": [
    {
     "data": {
      "text/html": [
       "<div>\n",
       "<style scoped>\n",
       "    .dataframe tbody tr th:only-of-type {\n",
       "        vertical-align: middle;\n",
       "    }\n",
       "\n",
       "    .dataframe tbody tr th {\n",
       "        vertical-align: top;\n",
       "    }\n",
       "\n",
       "    .dataframe thead th {\n",
       "        text-align: right;\n",
       "    }\n",
       "</style>\n",
       "<table border=\"1\" class=\"dataframe\">\n",
       "  <thead>\n",
       "    <tr style=\"text-align: right;\">\n",
       "      <th></th>\n",
       "      <th>model</th>\n",
       "      <th>best_score</th>\n",
       "      <th>best_params</th>\n",
       "    </tr>\n",
       "  </thead>\n",
       "  <tbody>\n",
       "    <tr>\n",
       "      <th>0</th>\n",
       "      <td>svm</td>\n",
       "      <td>0.973259</td>\n",
       "      <td>{'svc__C': 1, 'svc__kernel': 'linear'}</td>\n",
       "    </tr>\n",
       "    <tr>\n",
       "      <th>1</th>\n",
       "      <td>random_forest</td>\n",
       "      <td>0.869985</td>\n",
       "      <td>{'randomforestclassifier__n_estimators': 10}</td>\n",
       "    </tr>\n",
       "    <tr>\n",
       "      <th>2</th>\n",
       "      <td>logistic_regression</td>\n",
       "      <td>0.967221</td>\n",
       "      <td>{'logisticregression__C': 1}</td>\n",
       "    </tr>\n",
       "  </tbody>\n",
       "</table>\n",
       "</div>"
      ],
      "text/plain": [
       "                 model  best_score  \\\n",
       "0                  svm    0.973259   \n",
       "1        random_forest    0.869985   \n",
       "2  logistic_regression    0.967221   \n",
       "\n",
       "                                    best_params  \n",
       "0        {'svc__C': 1, 'svc__kernel': 'linear'}  \n",
       "1  {'randomforestclassifier__n_estimators': 10}  \n",
       "2                  {'logisticregression__C': 1}  "
      ]
     },
     "execution_count": 189,
     "metadata": {},
     "output_type": "execute_result"
    }
   ],
   "source": [
    "scores = []\n",
    "best_estimators = {}\n",
    "import pandas as pd\n",
    "for algo, mp in model_params.items():\n",
    "    pipe = make_pipeline(StandardScaler(), mp['model'])\n",
    "    clf =  GridSearchCV(pipe, mp['params'], cv=5, return_train_score=False)\n",
    "    clf.fit(X_train_resampled, y_train_resampled)\n",
    "    scores.append({\n",
    "        'model': algo,\n",
    "        'best_score': clf.best_score_,\n",
    "        'best_params': clf.best_params_\n",
    "    })\n",
    "    best_estimators[algo] = clf.best_estimator_\n",
    "    \n",
    "df = pd.DataFrame(scores,columns=['model','best_score','best_params'])\n",
    "df"
   ]
  },
  {
   "cell_type": "markdown",
   "metadata": {},
   "source": [
    "## 7. Model Training"
   ]
  },
  {
   "cell_type": "code",
   "execution_count": 196,
   "metadata": {},
   "outputs": [
    {
     "data": {
      "text/html": [
       "<style>#sk-container-id-16 {color: black;background-color: white;}#sk-container-id-16 pre{padding: 0;}#sk-container-id-16 div.sk-toggleable {background-color: white;}#sk-container-id-16 label.sk-toggleable__label {cursor: pointer;display: block;width: 100%;margin-bottom: 0;padding: 0.3em;box-sizing: border-box;text-align: center;}#sk-container-id-16 label.sk-toggleable__label-arrow:before {content: \"▸\";float: left;margin-right: 0.25em;color: #696969;}#sk-container-id-16 label.sk-toggleable__label-arrow:hover:before {color: black;}#sk-container-id-16 div.sk-estimator:hover label.sk-toggleable__label-arrow:before {color: black;}#sk-container-id-16 div.sk-toggleable__content {max-height: 0;max-width: 0;overflow: hidden;text-align: left;background-color: #f0f8ff;}#sk-container-id-16 div.sk-toggleable__content pre {margin: 0.2em;color: black;border-radius: 0.25em;background-color: #f0f8ff;}#sk-container-id-16 input.sk-toggleable__control:checked~div.sk-toggleable__content {max-height: 200px;max-width: 100%;overflow: auto;}#sk-container-id-16 input.sk-toggleable__control:checked~label.sk-toggleable__label-arrow:before {content: \"▾\";}#sk-container-id-16 div.sk-estimator input.sk-toggleable__control:checked~label.sk-toggleable__label {background-color: #d4ebff;}#sk-container-id-16 div.sk-label input.sk-toggleable__control:checked~label.sk-toggleable__label {background-color: #d4ebff;}#sk-container-id-16 input.sk-hidden--visually {border: 0;clip: rect(1px 1px 1px 1px);clip: rect(1px, 1px, 1px, 1px);height: 1px;margin: -1px;overflow: hidden;padding: 0;position: absolute;width: 1px;}#sk-container-id-16 div.sk-estimator {font-family: monospace;background-color: #f0f8ff;border: 1px dotted black;border-radius: 0.25em;box-sizing: border-box;margin-bottom: 0.5em;}#sk-container-id-16 div.sk-estimator:hover {background-color: #d4ebff;}#sk-container-id-16 div.sk-parallel-item::after {content: \"\";width: 100%;border-bottom: 1px solid gray;flex-grow: 1;}#sk-container-id-16 div.sk-label:hover label.sk-toggleable__label {background-color: #d4ebff;}#sk-container-id-16 div.sk-serial::before {content: \"\";position: absolute;border-left: 1px solid gray;box-sizing: border-box;top: 0;bottom: 0;left: 50%;z-index: 0;}#sk-container-id-16 div.sk-serial {display: flex;flex-direction: column;align-items: center;background-color: white;padding-right: 0.2em;padding-left: 0.2em;position: relative;}#sk-container-id-16 div.sk-item {position: relative;z-index: 1;}#sk-container-id-16 div.sk-parallel {display: flex;align-items: stretch;justify-content: center;background-color: white;position: relative;}#sk-container-id-16 div.sk-item::before, #sk-container-id-16 div.sk-parallel-item::before {content: \"\";position: absolute;border-left: 1px solid gray;box-sizing: border-box;top: 0;bottom: 0;left: 50%;z-index: -1;}#sk-container-id-16 div.sk-parallel-item {display: flex;flex-direction: column;z-index: 1;position: relative;background-color: white;}#sk-container-id-16 div.sk-parallel-item:first-child::after {align-self: flex-end;width: 50%;}#sk-container-id-16 div.sk-parallel-item:last-child::after {align-self: flex-start;width: 50%;}#sk-container-id-16 div.sk-parallel-item:only-child::after {width: 0;}#sk-container-id-16 div.sk-dashed-wrapped {border: 1px dashed gray;margin: 0 0.4em 0.5em 0.4em;box-sizing: border-box;padding-bottom: 0.4em;background-color: white;}#sk-container-id-16 div.sk-label label {font-family: monospace;font-weight: bold;display: inline-block;line-height: 1.2em;}#sk-container-id-16 div.sk-label-container {text-align: center;}#sk-container-id-16 div.sk-container {/* jupyter's `normalize.less` sets `[hidden] { display: none; }` but bootstrap.min.css set `[hidden] { display: none !important; }` so we also need the `!important` here to be able to override the default hidden behavior on the sphinx rendered scikit-learn.org. See: https://github.com/scikit-learn/scikit-learn/issues/21755 */display: inline-block !important;position: relative;}#sk-container-id-16 div.sk-text-repr-fallback {display: none;}</style><div id=\"sk-container-id-16\" class=\"sk-top-container\"><div class=\"sk-text-repr-fallback\"><pre>Pipeline(steps=[(&#x27;standardscaler&#x27;, StandardScaler()),\n",
       "                (&#x27;svc&#x27;, SVC(C=1, kernel=&#x27;linear&#x27;))])</pre><b>In a Jupyter environment, please rerun this cell to show the HTML representation or trust the notebook. <br />On GitHub, the HTML representation is unable to render, please try loading this page with nbviewer.org.</b></div><div class=\"sk-container\" hidden><div class=\"sk-item sk-dashed-wrapped\"><div class=\"sk-label-container\"><div class=\"sk-label sk-toggleable\"><input class=\"sk-toggleable__control sk-hidden--visually\" id=\"sk-estimator-id-46\" type=\"checkbox\" ><label for=\"sk-estimator-id-46\" class=\"sk-toggleable__label sk-toggleable__label-arrow\">Pipeline</label><div class=\"sk-toggleable__content\"><pre>Pipeline(steps=[(&#x27;standardscaler&#x27;, StandardScaler()),\n",
       "                (&#x27;svc&#x27;, SVC(C=1, kernel=&#x27;linear&#x27;))])</pre></div></div></div><div class=\"sk-serial\"><div class=\"sk-item\"><div class=\"sk-estimator sk-toggleable\"><input class=\"sk-toggleable__control sk-hidden--visually\" id=\"sk-estimator-id-47\" type=\"checkbox\" ><label for=\"sk-estimator-id-47\" class=\"sk-toggleable__label sk-toggleable__label-arrow\">StandardScaler</label><div class=\"sk-toggleable__content\"><pre>StandardScaler()</pre></div></div></div><div class=\"sk-item\"><div class=\"sk-estimator sk-toggleable\"><input class=\"sk-toggleable__control sk-hidden--visually\" id=\"sk-estimator-id-48\" type=\"checkbox\" ><label for=\"sk-estimator-id-48\" class=\"sk-toggleable__label sk-toggleable__label-arrow\">SVC</label><div class=\"sk-toggleable__content\"><pre>SVC(C=1, kernel=&#x27;linear&#x27;)</pre></div></div></div></div></div></div></div>"
      ],
      "text/plain": [
       "Pipeline(steps=[('standardscaler', StandardScaler()),\n",
       "                ('svc', SVC(C=1, kernel='linear'))])"
      ]
     },
     "execution_count": 196,
     "metadata": {},
     "output_type": "execute_result"
    }
   ],
   "source": [
    "model= make_pipeline(StandardScaler(), svm.SVC(C=1, kernel='linear'))\n",
    "model.fit(X_train_resampled, y_train_resampled)"
   ]
  },
  {
   "cell_type": "markdown",
   "metadata": {},
   "source": [
    "## 8. Model Evaluation"
   ]
  },
  {
   "cell_type": "code",
   "execution_count": 197,
   "metadata": {},
   "outputs": [],
   "source": [
    "y_pred = model.predict(X_test)"
   ]
  },
  {
   "cell_type": "code",
   "execution_count": 198,
   "metadata": {},
   "outputs": [
    {
     "name": "stdout",
     "output_type": "stream",
     "text": [
      "              precision    recall  f1-score   support\n",
      "\n",
      "         0.0       0.68      0.68      0.68        19\n",
      "         1.0       0.73      0.92      0.81        12\n",
      "         2.0       0.57      0.36      0.44        11\n",
      "         3.0       0.91      0.89      0.90        46\n",
      "         4.0       0.81      0.65      0.72        20\n",
      "         5.0       0.65      0.85      0.74        20\n",
      "\n",
      "    accuracy                           0.77       128\n",
      "   macro avg       0.73      0.73      0.72       128\n",
      "weighted avg       0.78      0.77      0.77       128\n",
      "\n"
     ]
    }
   ],
   "source": [
    "from sklearn.metrics import classification_report\n",
    "report = classification_report(y_test, y_pred)\n",
    "\n",
    "print(report)"
   ]
  },
  {
   "cell_type": "code",
   "execution_count": 193,
   "metadata": {},
   "outputs": [
    {
     "data": {
      "text/plain": [
       "{'rohit_sharma': 0,\n",
       " 'ricky_ponting': 1,\n",
       " 'kumar_sangakkara': 2,\n",
       " 'virat_kohli': 3,\n",
       " 'ms_dhoni': 4,\n",
       " 'sachin_tendulkar': 5}"
      ]
     },
     "execution_count": 193,
     "metadata": {},
     "output_type": "execute_result"
    }
   ],
   "source": [
    "class_dict"
   ]
  },
  {
   "cell_type": "code",
   "execution_count": 194,
   "metadata": {},
   "outputs": [],
   "source": [
    "from sklearn.metrics import confusion_matrix\n",
    "cm = confusion_matrix(y_test, y_pred)"
   ]
  },
  {
   "cell_type": "code",
   "execution_count": 195,
   "metadata": {},
   "outputs": [
    {
     "data": {
      "text/plain": [
       "Text(95.72222222222221, 0.5, 'Truth')"
      ]
     },
     "execution_count": 195,
     "metadata": {},
     "output_type": "execute_result"
    },
    {
     "data": {
      "image/png": "[encoded data removed]",
      "text/plain": [
       "<Figure size 1000x700 with 2 Axes>"
      ]
     },
     "metadata": {},
     "output_type": "display_data"
    }
   ],
   "source": [
    "import seaborn as sn\n",
    "import matplotlib.pyplot as plt\n",
    "plt.figure(figsize = (10,7))\n",
    "sn.heatmap(cm, annot=True)\n",
    "plt.xlabel('Predicted')\n",
    "plt.ylabel('Truth')"
   ]
  },
  {
   "cell_type": "code",
   "execution_count": 199,
   "metadata": {},
   "outputs": [
    {
     "data": {
      "text/plain": [
       "['model.pkl']"
      ]
     },
     "execution_count": 199,
     "metadata": {},
     "output_type": "execute_result"
    }
   ],
   "source": [
    "import joblib \n",
    "joblib.dump(model, 'model.pkl')"
   ]
  },
  {
   "cell_type": "code",
   "execution_count": 200,
   "metadata": {},
   "outputs": [],
   "source": [
    "import json\n",
    "with open(\"class_dictionary.json\",\"w\") as f:\n",
    "    f.write(json.dumps(class_dict))"
   ]
  },
  {
   "attachments": {},
   "cell_type": "markdown",
   "metadata": {},
   "source": [
    "## 8. Model Deployment"
   ]
  }
 ],
 "metadata": {
  "kernelspec": {
   "display_name": "Python 3 (ipykernel)",
   "language": "python",
   "name": "python3"
  },
  "language_info": {
   "codemirror_mode": {
    "name": "ipython",
    "version": 3
   },
   "file_extension": ".py",
   "mimetype": "text/x-python",
   "name": "python",
   "nbconvert_exporter": "python",
   "pygments_lexer": "ipython3",
   "version": "3.9.16"
  }
 },
 "nbformat": 4,
 "nbformat_minor": 2
}
